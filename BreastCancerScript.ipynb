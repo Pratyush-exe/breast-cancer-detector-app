{
  "nbformat": 4,
  "nbformat_minor": 0,
  "metadata": {
    "colab": {
      "name": "BreastCancer.ipynb",
      "provenance": [],
      "collapsed_sections": []
    },
    "kernelspec": {
      "name": "python3",
      "display_name": "Python 3"
    },
    "language_info": {
      "name": "python"
    }
  },
  "cells": [
    {
      "cell_type": "markdown",
      "metadata": {
        "id": "jI7nxkSyaYP7"
      },
      "source": [
        "Setup"
      ]
    },
    {
      "cell_type": "code",
      "metadata": {
        "id": "nalOsf2fbgwF"
      },
      "source": [
        "from google.colab import drive\n",
        "drive.mount(\"/content/gdrive\", force_remount=True)"
      ],
      "execution_count": null,
      "outputs": []
    },
    {
      "cell_type": "code",
      "metadata": {
        "id": "b7DvMBvFaVF6"
      },
      "source": [
        "!pip install kaggle"
      ],
      "execution_count": null,
      "outputs": []
    },
    {
      "cell_type": "code",
      "metadata": {
        "id": "ZtE-wPHmaejz"
      },
      "source": [
        "import os\n",
        "os.environ['KAGGLE_CONFIG_DIR'] = \"/content/gdrive/MyDrive/BreastCancerDataset\"\n",
        "\n",
        "!kaggle datasets download -d paultimothymooney/breast-histopathology-images"
      ],
      "execution_count": null,
      "outputs": []
    },
    {
      "cell_type": "code",
      "metadata": {
        "id": "BcLH76M6amO8"
      },
      "source": [
        "%cd /content/gdrive/MyDrive/BreastCancerDataset/"
      ],
      "execution_count": null,
      "outputs": []
    },
    {
      "cell_type": "code",
      "metadata": {
        "id": "saKu5ajbeBq-"
      },
      "source": [
        "!ls"
      ],
      "execution_count": null,
      "outputs": []
    },
    {
      "cell_type": "code",
      "metadata": {
        "id": "vzxiBnbiapWU"
      },
      "source": [
        "import zipfile\n",
        "import time\n",
        "zf = zipfile.ZipFile('/content/gdrive/MyDrive/BreastCancerDataset/breast-histopathology-images.zip')\n",
        "for file in tqdm(zf.infolist()):\n",
        "    zf.extract(file)"
      ],
      "execution_count": null,
      "outputs": []
    },
    {
      "cell_type": "markdown",
      "metadata": {
        "id": "LJ4BIPhGavis"
      },
      "source": [
        "Imports"
      ]
    },
    {
      "cell_type": "code",
      "metadata": {
        "id": "sMrg-cElaxJJ"
      },
      "source": [
        "import numpy as np\n",
        "import pandas as pd\n",
        "import os\n",
        "import itertools\n",
        "import os, stat, time\n",
        "from os.path import dirname as up\n",
        "import shutil\n",
        "from PIL import Image\n",
        "from tqdm.notebook import tqdm\n",
        "import matplotlib.pyplot as plt\n",
        "import matplotlib.image as mpimg\n",
        "import cv2\n",
        "\n",
        "from sklearn.model_selection import train_test_split\n",
        "from tensorflow.keras.utils import to_categorical\n",
        "\n",
        "from tensorflow.keras import Sequential\n",
        "from tensorflow.keras.optimizers import SGD, RMSprop, Adam, Adagrad, Adadelta\n",
        "from keras.layers import Dense, Dropout, Activation, Flatten, BatchNormalization, Conv2D, MaxPool2D, MaxPooling2D\n",
        "from tensorflow.keras.callbacks import EarlyStopping"
      ],
      "execution_count": 3,
      "outputs": []
    },
    {
      "cell_type": "markdown",
      "metadata": {
        "id": "2luZFPuDbmU6"
      },
      "source": [
        "Load Data"
      ]
    },
    {
      "cell_type": "code",
      "metadata": {
        "id": "RXpQonsQOABt"
      },
      "source": [
        "ids = os.listdir(\"/content/gdrive/MyDrive/BreastCancerDataset/\")\n",
        "data = []\n",
        "for id in tqdm(ids):\n",
        "  try:\n",
        "    files1 = os.listdir('/content/gdrive/MyDrive/BreastCancerDataset/' + id + '/1/')\n",
        "    files0 = os.listdir('/content/gdrive/MyDrive/BreastCancerDataset/' + id + '/0/')\n",
        "    for x in files1:\n",
        "      data.append('/content/gdrive/MyDrive/BreastCancerDataset/' + id + '/1/' + x)\n",
        "    for x in files0:\n",
        "      data.append('/content/gdrive/MyDrive/BreastCancerDataset/' + id + '/0/' + x)\n",
        "  except:\n",
        "    FileNotFoundError\n",
        "len(data)\n",
        "\n",
        "np.savetxt(\"data.txt\", np.array(data), fmt=\"%s\")"
      ],
      "execution_count": null,
      "outputs": []
    },
    {
      "cell_type": "code",
      "metadata": {
        "id": "W2dxl4RFPUFy"
      },
      "source": [
        "txtfile = open('data.txt')\n",
        "data = txtfile.read().split('\\n')\n",
        "# data = data[:15000]\n",
        "# data = data[15000:18000]\n",
        "# data = data[30000:45000]\n",
        "# data = data[45000:60000]\n",
        "# data = data[60000:75000]\n",
        "# data = data[75000:90000]\n",
        "# data = data[90000:105000]\n",
        "# data = data[105000:120000]\n",
        "# data = data[120000:135000]\n",
        "data = data[120000:123000]\n",
        "# data = data[135000:150000]\n",
        "# data = data[150000:165000]\n",
        "# data = data[165000:180000]\n",
        "# data = data[180000:195000]\n",
        "# data = data[195000:]\n",
        "len(data)"
      ],
      "execution_count": null,
      "outputs": []
    },
    {
      "cell_type": "markdown",
      "metadata": {
        "id": "k3n9Q9yxcIBL"
      },
      "source": [
        "Vizualization"
      ]
    },
    {
      "cell_type": "code",
      "metadata": {
        "id": "31IU40g56HlI"
      },
      "source": [
        "w = 20\n",
        "h = 20\n",
        "fig = plt.figure(figsize=(15, 15))\n",
        "columns = 10\n",
        "rows = 10\n",
        "for i in range(1, columns*rows +1):\n",
        "    img = mpimg.imread(data[i])\n",
        "    fig.add_subplot(rows, columns, i)\n",
        "    plt.imshow(img)\n",
        "plt.show()"
      ],
      "execution_count": null,
      "outputs": []
    },
    {
      "cell_type": "markdown",
      "metadata": {
        "id": "SoqE-bu8cKku"
      },
      "source": [
        "Labels and Images creation"
      ]
    },
    {
      "cell_type": "code",
      "metadata": {
        "id": "zvibcMeU8_n_"
      },
      "source": [
        "import cv2\n",
        "from tqdm.notebook import tqdm\n",
        "\n",
        "images=[]\n",
        "labels=[]\n",
        "ctr=0\n",
        "for i in tqdm(data):\n",
        "    if i.endswith('.png'):\n",
        "        label = int(i[-5])\n",
        "        img = cv2.imread(i)\n",
        "        try:\n",
        "          img = cv2.resize(img,(100,100))\n",
        "          images.append(img)\n",
        "          labels.append(label)\n",
        "        except:\n",
        "          ctr+=1\n",
        "print(ctr, \"number of images failed\")"
      ],
      "execution_count": null,
      "outputs": []
    },
    {
      "cell_type": "code",
      "metadata": {
        "id": "ggKKmAq6AjkU"
      },
      "source": [
        "np.savetxt(\"BreastCancerImagesFinal.txt\",images , fmt=\"%s\")\n",
        "np.savetxt(\"BreastCancerLabelsFinal.txt\",labels , fmt=\"%s\")"
      ],
      "execution_count": null,
      "outputs": []
    },
    {
      "cell_type": "code",
      "metadata": {
        "id": "JNcz4xgSE5gF"
      },
      "source": [
        "ctr=0\n",
        "for i in range(len(images)):\n",
        "  labels[i] = int(labels[i])\n",
        "  if(images[i].shape != (100, 100, 3)):\n",
        "    ctr=ctr+1\n",
        "print('Number of images with wrong dimensions: ', ctr)"
      ],
      "execution_count": null,
      "outputs": []
    },
    {
      "cell_type": "code",
      "metadata": {
        "id": "IfKCcRzmHDyp"
      },
      "source": [
        "print(len(images), len(labels))\n",
        "\n",
        "for i, x in enumerate(tqdm(images)):\n",
        "  if(images[i].shape != (100, 100, 3)):\n",
        "    images.pop(i)\n",
        "    labels.pop(i)\n",
        "    \n",
        "print(len(images), len(labels))"
      ],
      "execution_count": null,
      "outputs": []
    },
    {
      "cell_type": "markdown",
      "metadata": {
        "id": "ixJAUC2pcQCN"
      },
      "source": [
        "Create Train and Test datasets"
      ]
    },
    {
      "cell_type": "code",
      "metadata": {
        "id": "mEcp6XwRDVMu"
      },
      "source": [
        "from sklearn.model_selection import train_test_split\n",
        "from tensorflow.keras.utils import to_categorical\n",
        "\n",
        "y = np.array(labels)\n",
        "x = np.stack(images)/255\n",
        "\n",
        "x_train,x_test,y_train,y_test = train_test_split(x, y, random_state=0, test_size=0.3)\n",
        "print(x_train.shape, x_test.shape, y_train.shape, y_test.shape)"
      ],
      "execution_count": null,
      "outputs": []
    },
    {
      "cell_type": "markdown",
      "metadata": {
        "id": "5er9CWa8df8b"
      },
      "source": [
        "Model"
      ]
    },
    {
      "cell_type": "code",
      "metadata": {
        "id": "eL9TiD4yR4Y4"
      },
      "source": [
        "model=Sequential()\n",
        "\n",
        "model.add(Conv2D(filters=32,kernel_size=(4,4),input_shape=(100,100,3),activation='relu'))\n",
        "model.add(MaxPool2D(pool_size=(2,2)))\n",
        "model.add(MaxPool2D(pool_size=(2,2)))\n",
        "model.add(Dropout(0.25))\n",
        "model.add(Conv2D(filters=32,kernel_size=(4,4),activation='relu'))\n",
        "model.add(MaxPool2D(pool_size=(2,2)))\n",
        "model.add(MaxPool2D(pool_size=(2,2), strides=(2,2)))\n",
        "model.add(Dropout(0.25))\n",
        "model.add(Flatten())\n",
        "model.add(Dense(128,activation='relu'))\n",
        "model.add(Dense(1,activation='sigmoid'))\n",
        "model.compile(loss = 'binary_crossentropy', optimizer ='adam', metrics= ['accuracy'])\n",
        "\n",
        "model.summary()"
      ],
      "execution_count": null,
      "outputs": []
    },
    {
      "cell_type": "code",
      "metadata": {
        "id": "tIO6B9o1SJwZ"
      },
      "source": [
        "import tensorflow as tf\n",
        "\n",
        "history = model.fit(x_train, y_train, validation_data = (x_test, y_test), epochs = 10, verbose = 2, batch_size = 250)"
      ],
      "execution_count": null,
      "outputs": []
    },
    {
      "cell_type": "code",
      "metadata": {
        "id": "VwYj0hh6nizr"
      },
      "source": [
        "model.save('model14.h5')"
      ],
      "execution_count": 27,
      "outputs": []
    },
    {
      "cell_type": "code",
      "metadata": {
        "id": "NpN6TIVC42Bd"
      },
      "source": [
        "from google.colab import files\n",
        "files.download('model14.h5')"
      ],
      "execution_count": null,
      "outputs": []
    },
    {
      "cell_type": "markdown",
      "metadata": {
        "id": "9ea3qbKXdlxB"
      },
      "source": [
        "Prediction and Testing"
      ]
    },
    {
      "cell_type": "code",
      "metadata": {
        "id": "NztEzqah1LSa"
      },
      "source": [
        "%cd /content/gdrive/MyDrive/BreastCancerModels/\n",
        "!ls"
      ],
      "execution_count": null,
      "outputs": []
    },
    {
      "cell_type": "code",
      "metadata": {
        "id": "BWddoRwk1WLh"
      },
      "source": [
        "from keras.models import load_model\n",
        "import os\n",
        "\n",
        "models = list(filter(lambda x: x.endswith('.h5'), os.listdir('/content/gdrive/MyDrive/BreastCancerModels/')))\n",
        "names = models\n",
        "models = list(map(lambda x: load_model(x), models))"
      ],
      "execution_count": 36,
      "outputs": []
    },
    {
      "cell_type": "code",
      "metadata": {
        "id": "iBDr6tLz2iv_"
      },
      "source": [
        "threshold = 0.5\n",
        "total = len(images)\n",
        "for modelID, model in enumerate(models):\n",
        "  correct = 0\n",
        "  wrong = 0\n",
        "  for id, image in enumerate(tqdm(images)):\n",
        "    image = np.expand_dims(image, axis=0)\n",
        "    pred = model.predict(image)[0][0]\n",
        "    result = 1 if pred>=threshold else 0\n",
        "    if result == labels[id]:\n",
        "      correct+=1\n",
        "    else:\n",
        "      wrong+=1\n",
        "  print('For model', names[modelID],' Accuracy:', correct/total,' Correct:', correct, ' Wrong:', wrong)"
      ],
      "execution_count": null,
      "outputs": []
    }
  ]
}